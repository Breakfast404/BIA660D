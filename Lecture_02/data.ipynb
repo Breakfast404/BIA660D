{
 "cells": [
  {
   "cell_type": "code",
   "execution_count": 1,
   "metadata": {
    "collapsed": true
   },
   "outputs": [],
   "source": [
    "datafile = open('./chatbot_data.txt', 'r')"
   ]
  },
  {
   "cell_type": "code",
   "execution_count": 2,
   "metadata": {},
   "outputs": [
    {
     "data": {
      "text/plain": [
       "_io.TextIOWrapper"
      ]
     },
     "execution_count": 2,
     "metadata": {},
     "output_type": "execute_result"
    }
   ],
   "source": [
    "type(datafile)"
   ]
  },
  {
   "cell_type": "code",
   "execution_count": 3,
   "metadata": {
    "collapsed": true
   },
   "outputs": [],
   "source": [
    "text = datafile.read()"
   ]
  },
  {
   "cell_type": "code",
   "execution_count": 4,
   "metadata": {},
   "outputs": [
    {
     "data": {
      "text/plain": [
       "\"Joe likes Mary.\\nBob is friends with Mary.\\nBob has a dog named Fido.\\n### HERE'S SOME DATA YOU DON'T WANT\\nMary has a dog.\\nMary's dog's name is Rover.\\n$$$ BAD DATA\\nBob doesn't like Joe.\\nJoe is friends with Mary.\\n=== A comment that shouldn't be used\\nJoe has a cat.\\nJoe's cat's name is Mr. Binglesworth.\\nBob and Mary are taking a trip to France in June of this year.\\n\""
      ]
     },
     "execution_count": 4,
     "metadata": {},
     "output_type": "execute_result"
    }
   ],
   "source": [
    "text"
   ]
  },
  {
   "cell_type": "code",
   "execution_count": 5,
   "metadata": {},
   "outputs": [
    {
     "data": {
      "text/plain": [
       "\"Joe likes Mary. Bob is friends with Mary. Bob has a dog named Fido. ### HERE'S SOME DATA YOU DON'T WANT Mary has a dog. Mary's dog's name is Rover. $$$ BAD DATA Bob doesn't like Joe. Joe is friends with Mary. === A comment that shouldn't be used Joe has a cat. Joe's cat's name is Mr. Binglesworth. Bob and Mary are taking a trip to France in June of this year. \""
      ]
     },
     "execution_count": 5,
     "metadata": {},
     "output_type": "execute_result"
    }
   ],
   "source": [
    "text.replace('\\n', ' ')"
   ]
  },
  {
   "cell_type": "code",
   "execution_count": 6,
   "metadata": {},
   "outputs": [
    {
     "data": {
      "text/plain": [
       "\"Joe likes Mary. Bob is friends with Mary. Bob has a dog named Fido. ### HERE'S SOME DATA YOU DON'T WANT Mary has a dog. Mary's dog's name is Rover. $$$ BAD DATA Bob doesn't like Joe. Joe is friends with Mary. === A comment that shouldn't be used Joe has a cat. Joe's cat's name is Mr. Binglesworth. Bob and Mary are taking a trip to France in June of this year.\""
      ]
     },
     "execution_count": 6,
     "metadata": {},
     "output_type": "execute_result"
    }
   ],
   "source": [
    "text.replace('\\n', ' ').strip()"
   ]
  },
  {
   "cell_type": "markdown",
   "metadata": {},
   "source": [
    "## See here for more string methods:\n",
    "* https://www.digitalocean.com/community/tutorials/an-introduction-to-string-functions-in-python-3\n",
    "* https://docs.python.org/2/library/string.html\n",
    "* https://docs.python.org/3.6/library/string.html"
   ]
  },
  {
   "cell_type": "code",
   "execution_count": 7,
   "metadata": {
    "collapsed": true
   },
   "outputs": [],
   "source": [
    "datafile.close()"
   ]
  },
  {
   "cell_type": "code",
   "execution_count": 8,
   "metadata": {},
   "outputs": [
    {
     "name": "stdout",
     "output_type": "stream",
     "text": [
      "Joe likes Mary.\n",
      "\n",
      "Bob is friends with Mary.\n",
      "\n",
      "Bob has a dog named Fido.\n",
      "\n",
      "### HERE'S SOME DATA YOU DON'T WANT\n",
      "\n",
      "Mary has a dog.\n",
      "\n",
      "Mary's dog's name is Rover.\n",
      "\n",
      "$$$ BAD DATA\n",
      "\n",
      "Bob doesn't like Joe.\n",
      "\n",
      "Joe is friends with Mary.\n",
      "\n",
      "=== A comment that shouldn't be used\n",
      "\n",
      "Joe has a cat.\n",
      "\n",
      "Joe's cat's name is Mr. Binglesworth.\n",
      "\n",
      "Bob and Mary are taking a trip to France in June of this year.\n",
      "\n"
     ]
    }
   ],
   "source": [
    "with open('./chatbot_data.txt') as infile:\n",
    "    for line in infile:\n",
    "        print(line) #.strip())\n",
    "    \n",
    "    text = infile.read()"
   ]
  },
  {
   "cell_type": "code",
   "execution_count": 9,
   "metadata": {},
   "outputs": [
    {
     "data": {
      "text/plain": [
       "''"
      ]
     },
     "execution_count": 9,
     "metadata": {},
     "output_type": "execute_result"
    }
   ],
   "source": [
    "text"
   ]
  },
  {
   "cell_type": "code",
   "execution_count": 10,
   "metadata": {},
   "outputs": [
    {
     "name": "stdout",
     "output_type": "stream",
     "text": [
      "Joe likes Mary.\n",
      "\n",
      "Bob is friends with Mary.\n",
      "\n",
      "Bob has a dog named Fido.\n",
      "\n",
      "### HERE'S SOME DATA YOU DON'T WANT\n",
      "\n",
      "Mary has a dog.\n",
      "\n",
      "Mary's dog's name is Rover.\n",
      "\n",
      "$$$ BAD DATA\n",
      "\n",
      "Bob doesn't like Joe.\n",
      "\n",
      "Joe is friends with Mary.\n",
      "\n",
      "=== A comment that shouldn't be used\n",
      "\n",
      "Joe has a cat.\n",
      "\n",
      "Joe's cat's name is Mr. Binglesworth.\n",
      "\n",
      "Bob and Mary are taking a trip to France in June of this year.\n",
      "\n"
     ]
    }
   ],
   "source": [
    "with open('./chatbot_data.txt') as infile:\n",
    "    for line in infile:\n",
    "        print(line) #.strip())\n",
    "    \n",
    "    infile.seek(0)\n",
    "    \n",
    "    text = infile.read()"
   ]
  },
  {
   "cell_type": "code",
   "execution_count": 11,
   "metadata": {},
   "outputs": [
    {
     "data": {
      "text/plain": [
       "\"Joe likes Mary. Bob is friends with Mary. Bob has a dog named Fido. ### HERE'S SOME DATA YOU DON'T WANT Mary has a dog. Mary's dog's name is Rover. $$$ BAD DATA Bob doesn't like Joe. Joe is friends with Mary. === A comment that shouldn't be used Joe has a cat. Joe's cat's name is Mr. Binglesworth. Bob and Mary are taking a trip to France in June of this year.\""
      ]
     },
     "execution_count": 11,
     "metadata": {},
     "output_type": "execute_result"
    }
   ],
   "source": [
    "text.replace('\\n', ' ').strip()"
   ]
  },
  {
   "cell_type": "code",
   "execution_count": 12,
   "metadata": {},
   "outputs": [
    {
     "data": {
      "text/plain": [
       "['Joe likes Mary.\\n',\n",
       " 'Bob is friends with Mary.\\n',\n",
       " 'Bob has a dog named Fido.\\n',\n",
       " \"### HERE'S SOME DATA YOU DON'T WANT\\n\",\n",
       " 'Mary has a dog.\\n',\n",
       " \"Mary's dog's name is Rover.\\n\",\n",
       " '$$$ BAD DATA\\n',\n",
       " \"Bob doesn't like Joe.\\n\",\n",
       " 'Joe is friends with Mary.\\n',\n",
       " \"=== A comment that shouldn't be used\\n\",\n",
       " 'Joe has a cat.\\n',\n",
       " \"Joe's cat's name is Mr. Binglesworth.\\n\",\n",
       " 'Bob and Mary are taking a trip to France in June of this year.\\n']"
      ]
     },
     "execution_count": 12,
     "metadata": {},
     "output_type": "execute_result"
    }
   ],
   "source": [
    "with open('chatbot_data.txt') as infile:\n",
    "    lines = infile.readlines()\n",
    "    \n",
    "lines"
   ]
  },
  {
   "cell_type": "code",
   "execution_count": 13,
   "metadata": {
    "collapsed": true,
    "scrolled": true
   },
   "outputs": [],
   "source": [
    "import spacy\n",
    "\n",
    "nlp = spacy.load('en')"
   ]
  },
  {
   "cell_type": "code",
   "execution_count": 14,
   "metadata": {},
   "outputs": [
    {
     "data": {
      "text/plain": [
       "'Joe likes Mary.'"
      ]
     },
     "execution_count": 14,
     "metadata": {},
     "output_type": "execute_result"
    }
   ],
   "source": [
    "sent = lines[0].strip()\n",
    "sent"
   ]
  },
  {
   "cell_type": "code",
   "execution_count": 15,
   "metadata": {
    "collapsed": true
   },
   "outputs": [],
   "source": [
    "doc = nlp(sent)"
   ]
  },
  {
   "cell_type": "code",
   "execution_count": 16,
   "metadata": {
    "collapsed": true
   },
   "outputs": [],
   "source": [
    "from spacy import displacy"
   ]
  },
  {
   "cell_type": "code",
   "execution_count": 17,
   "metadata": {},
   "outputs": [
    {
     "name": "stderr",
     "output_type": "stream",
     "text": [
      "/home/cognizac/anaconda3/envs/test/lib/python3.6/runpy.py:193: DeprecationWarning: Positional arguments to Doc.merge are deprecated. Instead, use the keyword arguments, for example tag=, lemma= or ent_type=.\n",
      "  \"__main__\", mod_spec)\n"
     ]
    },
    {
     "data": {
      "text/html": [
       "<svg xmlns=\"http://www.w3.org/2000/svg\" xmlns:xlink=\"http://www.w3.org/1999/xlink\" id=\"0\" class=\"displacy\" width=\"575\" height=\"224.5\" style=\"max-width: none; height: 224.5px; color: #000000; background: #ffffff; font-family: Arial\">\n",
       "<text class=\"displacy-token\" fill=\"currentColor\" text-anchor=\"middle\" y=\"134.5\">\n",
       "    <tspan class=\"displacy-word\" fill=\"currentColor\" x=\"50\">Joe</tspan>\n",
       "    <tspan class=\"displacy-tag\" dy=\"2em\" fill=\"currentColor\" x=\"50\">PROPN</tspan>\n",
       "</text>\n",
       "\n",
       "<text class=\"displacy-token\" fill=\"currentColor\" text-anchor=\"middle\" y=\"134.5\">\n",
       "    <tspan class=\"displacy-word\" fill=\"currentColor\" x=\"225\">likes</tspan>\n",
       "    <tspan class=\"displacy-tag\" dy=\"2em\" fill=\"currentColor\" x=\"225\">VERB</tspan>\n",
       "</text>\n",
       "\n",
       "<text class=\"displacy-token\" fill=\"currentColor\" text-anchor=\"middle\" y=\"134.5\">\n",
       "    <tspan class=\"displacy-word\" fill=\"currentColor\" x=\"400\">Mary.</tspan>\n",
       "    <tspan class=\"displacy-tag\" dy=\"2em\" fill=\"currentColor\" x=\"400\">PROPN</tspan>\n",
       "</text>\n",
       "\n",
       "<g class=\"displacy-arrow\">\n",
       "    <path class=\"displacy-arc\" id=\"arrow-0-0\" stroke-width=\"2px\" d=\"M70,89.5 C70,2.0 225.0,2.0 225.0,89.5\" fill=\"none\" stroke=\"currentColor\"/>\n",
       "    <text dy=\"1.25em\" style=\"font-size: 0.8em; letter-spacing: 1px\">\n",
       "        <textPath xlink:href=\"#arrow-0-0\" class=\"displacy-label\" startOffset=\"50%\" fill=\"currentColor\" text-anchor=\"middle\">nsubj</textPath>\n",
       "    </text>\n",
       "    <path class=\"displacy-arrowhead\" d=\"M70,91.5 L62,79.5 78,79.5\" fill=\"currentColor\"/>\n",
       "</g>\n",
       "\n",
       "<g class=\"displacy-arrow\">\n",
       "    <path class=\"displacy-arc\" id=\"arrow-0-1\" stroke-width=\"2px\" d=\"M245,89.5 C245,2.0 400.0,2.0 400.0,89.5\" fill=\"none\" stroke=\"currentColor\"/>\n",
       "    <text dy=\"1.25em\" style=\"font-size: 0.8em; letter-spacing: 1px\">\n",
       "        <textPath xlink:href=\"#arrow-0-1\" class=\"displacy-label\" startOffset=\"50%\" fill=\"currentColor\" text-anchor=\"middle\">dobj</textPath>\n",
       "    </text>\n",
       "    <path class=\"displacy-arrowhead\" d=\"M400.0,91.5 L408.0,79.5 392.0,79.5\" fill=\"currentColor\"/>\n",
       "</g>\n",
       "</svg>"
      ],
      "text/plain": [
       "<IPython.core.display.HTML object>"
      ]
     },
     "metadata": {},
     "output_type": "display_data"
    }
   ],
   "source": [
    "displacy.render(doc, style='dep', jupyter=True)"
   ]
  },
  {
   "cell_type": "code",
   "execution_count": 18,
   "metadata": {},
   "outputs": [
    {
     "data": {
      "text/plain": [
       "[Joe, likes, Mary, .]"
      ]
     },
     "execution_count": 18,
     "metadata": {},
     "output_type": "execute_result"
    }
   ],
   "source": [
    "list(doc)"
   ]
  },
  {
   "cell_type": "code",
   "execution_count": 19,
   "metadata": {
    "collapsed": true
   },
   "outputs": [],
   "source": [
    "root = [token for token in doc if token.head == token][0]"
   ]
  },
  {
   "cell_type": "code",
   "execution_count": 20,
   "metadata": {},
   "outputs": [
    {
     "data": {
      "text/plain": [
       "spacy.tokens.token.Token"
      ]
     },
     "execution_count": 20,
     "metadata": {},
     "output_type": "execute_result"
    }
   ],
   "source": [
    "type(root)"
   ]
  },
  {
   "cell_type": "code",
   "execution_count": 21,
   "metadata": {},
   "outputs": [
    {
     "name": "stdout",
     "output_type": "stream",
     "text": [
      "[Joe]\n",
      "[Mary, .]\n"
     ]
    }
   ],
   "source": [
    "print(list(root.lefts))\n",
    "print(list(root.rights))"
   ]
  },
  {
   "cell_type": "code",
   "execution_count": 22,
   "metadata": {},
   "outputs": [
    {
     "name": "stdout",
     "output_type": "stream",
     "text": [
      "nsubj\n",
      "likes\n"
     ]
    }
   ],
   "source": [
    "print(doc[0].dep_)\n",
    "print(doc[0].head)"
   ]
  },
  {
   "cell_type": "code",
   "execution_count": 23,
   "metadata": {},
   "outputs": [
    {
     "data": {
      "text/plain": [
       "[(Joe, 'PERSON'), (Mary, 'PERSON')]"
      ]
     },
     "execution_count": 23,
     "metadata": {},
     "output_type": "execute_result"
    }
   ],
   "source": [
    "[(e, e.label_) for e in doc.ents]"
   ]
  },
  {
   "cell_type": "code",
   "execution_count": 24,
   "metadata": {},
   "outputs": [
    {
     "data": {
      "text/plain": [
       "[(Joe, 'PERSON', 'PROPN', 'joe'),\n",
       " (likes, '', 'VERB', 'like'),\n",
       " (Mary, 'PERSON', 'PROPN', 'mary'),\n",
       " (., '', 'PUNCT', '.')]"
      ]
     },
     "execution_count": 24,
     "metadata": {},
     "output_type": "execute_result"
    }
   ],
   "source": [
    "[(token, token.ent_type_, token.pos_, token.lemma_) for token in doc]"
   ]
  },
  {
   "cell_type": "code",
   "execution_count": 25,
   "metadata": {
    "collapsed": true
   },
   "outputs": [],
   "source": [
    "doc = nlp('Bob and Mary are taking a trip to France in June of this year.')"
   ]
  },
  {
   "cell_type": "code",
   "execution_count": 27,
   "metadata": {},
   "outputs": [
    {
     "data": {
      "text/plain": [
       "[(Bob, 'PERSON'),\n",
       " (Mary, 'PERSON'),\n",
       " (France, 'GPE'),\n",
       " (June of this year, 'DATE')]"
      ]
     },
     "execution_count": 27,
     "metadata": {},
     "output_type": "execute_result"
    }
   ],
   "source": [
    "[(e, e.label_) for e in doc.ents]"
   ]
  },
  {
   "cell_type": "code",
   "execution_count": null,
   "metadata": {
    "collapsed": true
   },
   "outputs": [],
   "source": []
  }
 ],
 "metadata": {
  "kernelspec": {
   "display_name": "Python 3",
   "language": "python",
   "name": "python3"
  },
  "language_info": {
   "codemirror_mode": {
    "name": "ipython",
    "version": 3
   },
   "file_extension": ".py",
   "mimetype": "text/x-python",
   "name": "python",
   "nbconvert_exporter": "python",
   "pygments_lexer": "ipython3",
   "version": "3.6.3"
  }
 },
 "nbformat": 4,
 "nbformat_minor": 2
}
